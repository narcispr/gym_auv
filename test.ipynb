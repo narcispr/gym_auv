{
 "cells": [
  {
   "cell_type": "code",
   "execution_count": 16,
   "metadata": {},
   "outputs": [
    {
     "name": "stdout",
     "output_type": "stream",
     "text": [
      "Episode finished after 600 timesteps\n"
     ]
    },
    {
     "data": {
      "image/png": "[encoded data removed]",
      "text/plain": [
       "<Figure size 432x288 with 1 Axes>"
      ]
     },
     "metadata": {
      "needs_background": "light"
     },
     "output_type": "display_data"
    }
   ],
   "source": [
    "import gymnasium as gym\n",
    "import gym_auv\n",
    "env = gym.make('Docking-v2')\n",
    "env.reset()\n",
    "terminated = False\n",
    "truncated = False\n",
    "step = 0\n",
    "frames = []\n",
    "while not terminated and not truncated:\n",
    "    action = env.action_space.sample()\n",
    "    action[0] = 0.25 # force forward speed\n",
    "    if step % 10 == 0:\n",
    "        frames.append(env.render()) # save frames for video (1 out of 10)\n",
    "    observation, reward, terminated, truncated, info = env.step(action)\n",
    "    step += 1\n",
    "print(\"Episode finished after {} timesteps\".format(step))\n"
   ]
  },
  {
   "cell_type": "code",
   "execution_count": 17,
   "metadata": {},
   "outputs": [],
   "source": [
    "# create an animated gif from the frames that loops forever\n",
    "import imageio\n",
    "imageio.mimsave('docking.gif', frames, duration=0.1, loop=0)"
   ]
  }
 ],
 "metadata": {
  "kernelspec": {
   "display_name": "venv",
   "language": "python",
   "name": "python3"
  },
  "language_info": {
   "codemirror_mode": {
    "name": "ipython",
    "version": 3
   },
   "file_extension": ".py",
   "mimetype": "text/x-python",
   "name": "python",
   "nbconvert_exporter": "python",
   "pygments_lexer": "ipython3",
   "version": "3.8.10"
  }
 },
 "nbformat": 4,
 "nbformat_minor": 2
}
